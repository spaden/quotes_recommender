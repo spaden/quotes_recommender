{
 "cells": [
  {
   "cell_type": "code",
   "execution_count": 1,
   "metadata": {
    "id": "1JX3JdW_wi_S"
   },
   "outputs": [],
   "source": [
    "import pandas as pd\n",
    "df = pd.read_json('quotes.json')\n",
    "df['mod_Quote'] = df['Quote']\n",
    "df.drop_duplicates(subset =\"Quote\", keep = 'first', inplace = True)"
   ]
  },
  {
   "cell_type": "code",
   "execution_count": 2,
   "metadata": {
    "colab": {
     "base_uri": "https://localhost:8080/",
     "height": 204
    },
    "id": "u8hWvq2w1KAm",
    "outputId": "28439417-3f61-4e5a-e73e-aa840311c52e"
   },
   "outputs": [
    {
     "data": {
      "text/html": [
       "<div>\n",
       "<style scoped>\n",
       "    .dataframe tbody tr th:only-of-type {\n",
       "        vertical-align: middle;\n",
       "    }\n",
       "\n",
       "    .dataframe tbody tr th {\n",
       "        vertical-align: top;\n",
       "    }\n",
       "\n",
       "    .dataframe thead th {\n",
       "        text-align: right;\n",
       "    }\n",
       "</style>\n",
       "<table border=\"1\" class=\"dataframe\">\n",
       "  <thead>\n",
       "    <tr style=\"text-align: right;\">\n",
       "      <th></th>\n",
       "      <th>Quote</th>\n",
       "      <th>Author</th>\n",
       "      <th>Tags</th>\n",
       "      <th>Popularity</th>\n",
       "      <th>Category</th>\n",
       "      <th>mod_Quote</th>\n",
       "    </tr>\n",
       "  </thead>\n",
       "  <tbody>\n",
       "    <tr>\n",
       "      <th>0</th>\n",
       "      <td>Don't cry because it's over, smile because it ...</td>\n",
       "      <td>Dr. Seuss</td>\n",
       "      <td>[attributed-no-source, cry, crying, experience...</td>\n",
       "      <td>0.155666</td>\n",
       "      <td>life</td>\n",
       "      <td>Don't cry because it's over, smile because it ...</td>\n",
       "    </tr>\n",
       "    <tr>\n",
       "      <th>2</th>\n",
       "      <td>I'm selfish, impatient and a little insecure. ...</td>\n",
       "      <td>Marilyn Monroe</td>\n",
       "      <td>[attributed-no-source, best, life, love, mista...</td>\n",
       "      <td>0.129122</td>\n",
       "      <td>love</td>\n",
       "      <td>I'm selfish, impatient and a little insecure. ...</td>\n",
       "    </tr>\n",
       "    <tr>\n",
       "      <th>5</th>\n",
       "      <td>Be yourself; everyone else is already taken.</td>\n",
       "      <td>Oscar Wilde</td>\n",
       "      <td>[attributed-no-source, be-yourself, honesty, i...</td>\n",
       "      <td>0.113223</td>\n",
       "      <td>inspiration</td>\n",
       "      <td>Be yourself; everyone else is already taken.</td>\n",
       "    </tr>\n",
       "    <tr>\n",
       "      <th>6</th>\n",
       "      <td>Two things are infinite: the universe and huma...</td>\n",
       "      <td>Albert Einstein</td>\n",
       "      <td>[attributed-no-source, human-nature, humor, in...</td>\n",
       "      <td>0.103127</td>\n",
       "      <td>humor</td>\n",
       "      <td>Two things are infinite: the universe and huma...</td>\n",
       "    </tr>\n",
       "    <tr>\n",
       "      <th>9</th>\n",
       "      <td>Be who you are and say what you feel, because ...</td>\n",
       "      <td>Bernard M. Baruch</td>\n",
       "      <td>[ataraxy, be-yourself, confidence, fitting-in,...</td>\n",
       "      <td>0.101890</td>\n",
       "      <td></td>\n",
       "      <td>Be who you are and say what you feel, because ...</td>\n",
       "    </tr>\n",
       "  </tbody>\n",
       "</table>\n",
       "</div>"
      ],
      "text/plain": [
       "                                               Quote             Author  \\\n",
       "0  Don't cry because it's over, smile because it ...          Dr. Seuss   \n",
       "2  I'm selfish, impatient and a little insecure. ...     Marilyn Monroe   \n",
       "5       Be yourself; everyone else is already taken.        Oscar Wilde   \n",
       "6  Two things are infinite: the universe and huma...    Albert Einstein   \n",
       "9  Be who you are and say what you feel, because ...  Bernard M. Baruch   \n",
       "\n",
       "                                                Tags  Popularity     Category  \\\n",
       "0  [attributed-no-source, cry, crying, experience...    0.155666         life   \n",
       "2  [attributed-no-source, best, life, love, mista...    0.129122         love   \n",
       "5  [attributed-no-source, be-yourself, honesty, i...    0.113223  inspiration   \n",
       "6  [attributed-no-source, human-nature, humor, in...    0.103127        humor   \n",
       "9  [ataraxy, be-yourself, confidence, fitting-in,...    0.101890                \n",
       "\n",
       "                                           mod_Quote  \n",
       "0  Don't cry because it's over, smile because it ...  \n",
       "2  I'm selfish, impatient and a little insecure. ...  \n",
       "5       Be yourself; everyone else is already taken.  \n",
       "6  Two things are infinite: the universe and huma...  \n",
       "9  Be who you are and say what you feel, because ...  "
      ]
     },
     "execution_count": 2,
     "metadata": {},
     "output_type": "execute_result"
    }
   ],
   "source": [
    "df.head()"
   ]
  },
  {
   "cell_type": "code",
   "execution_count": 3,
   "metadata": {
    "colab": {
     "base_uri": "https://localhost:8080/"
    },
    "id": "l9XFVJ9-wi_U",
    "outputId": "adceb1e5-5f7a-4547-bc04-5c7e10a4238a"
   },
   "outputs": [
    {
     "name": "stderr",
     "output_type": "stream",
     "text": [
      "[nltk_data] Downloading package stopwords to\n",
      "[nltk_data]     C:\\Users\\kalya\\AppData\\Roaming\\nltk_data...\n",
      "[nltk_data]   Package stopwords is already up-to-date!\n",
      "[nltk_data] Downloading package punkt to\n",
      "[nltk_data]     C:\\Users\\kalya\\AppData\\Roaming\\nltk_data...\n",
      "[nltk_data]   Package punkt is already up-to-date!\n"
     ]
    }
   ],
   "source": [
    "import nltk\n",
    "from nltk.corpus import stopwords\n",
    "from nltk.tokenize import word_tokenize\n",
    "from nltk.stem import PorterStemmer\n",
    "nltk.download('stopwords')\n",
    "nltk.download('punkt')\n",
    "stemming = PorterStemmer()\n",
    "stop_list = set(stopwords.words('english'))\n"
   ]
  },
  {
   "cell_type": "code",
   "execution_count": 4,
   "metadata": {
    "id": "JL6Oxe0Bwi_V"
   },
   "outputs": [],
   "source": [
    "import re\n",
    "reg = re.compile(r'[a-zA-Z]')\n",
    "\n",
    "def remove_noise(quote_word):\n",
    "    words = word_tokenize(quote_word)\n",
    "    currentQuote = []\n",
    "    for word in words:\n",
    "        if word not in stop_list and word.isalpha() and word not in [\",\", \".\", \"!\", \" \", \";\"] and reg.match(word):\n",
    "                currentQuote.append(stemming.stem(word.lower()))\n",
    "    \n",
    "    return \" \".join(currentQuote)\n",
    "    \n",
    "df['mod_Quote'] = df['mod_Quote'].apply(remove_noise)"
   ]
  },
  {
   "cell_type": "code",
   "execution_count": 5,
   "metadata": {
    "colab": {
     "base_uri": "https://localhost:8080/"
    },
    "id": "ln-L60k9wi_W",
    "outputId": "57f1b0b9-04cd-49ac-b0d2-d2946737b990"
   },
   "outputs": [
    {
     "data": {
      "text/plain": [
       "0                                      do cri smile happen\n",
       "2        i selfish impati littl insecur i make mistak i...\n",
       "5                             be everyon els alreadi taken\n",
       "6        two thing infinit univers human stupid i sure ...\n",
       "9                      be say feel mind matter matter mind\n",
       "                               ...                        \n",
       "48386    in buddhism say attach anyth lead suffer so la...\n",
       "48387                      i love british humor it surreal\n",
       "48388                         i got sens humor i funni guy\n",
       "48389      humor wonder thing help realiz fool beauti time\n",
       "48390                     life is full obstacl stumbl upon\n",
       "Name: mod_Quote, Length: 36937, dtype: object"
      ]
     },
     "execution_count": 5,
     "metadata": {},
     "output_type": "execute_result"
    }
   ],
   "source": [
    "df['mod_Quote']"
   ]
  },
  {
   "cell_type": "code",
   "execution_count": 6,
   "metadata": {
    "id": "lMH0pCxNwi_W"
   },
   "outputs": [],
   "source": [
    "from sklearn.feature_extraction.text import TfidfVectorizer\n",
    "vectorizer = TfidfVectorizer()\n",
    "X = vectorizer.fit_transform(df['mod_Quote'])\n",
    "\n",
    "tx = pd.DataFrame(data = X.toarray(), columns = vectorizer.get_feature_names())\n"
   ]
  },
  {
   "cell_type": "code",
   "execution_count": 7,
   "metadata": {
    "colab": {
     "base_uri": "https://localhost:8080/"
    },
    "id": "Buayvcghwi_X",
    "outputId": "bad01e7b-71e3-48a4-f436-dc4104effa6f"
   },
   "outputs": [
    {
     "data": {
      "text/plain": [
       "36937"
      ]
     },
     "execution_count": 7,
     "metadata": {},
     "output_type": "execute_result"
    }
   ],
   "source": [
    "from sklearn.decomposition import TruncatedSVD\n",
    "\n",
    "svd = TruncatedSVD(n_components = 500)\n",
    "md = svd.fit_transform(X)\n",
    "len(md)"
   ]
  },
  {
   "cell_type": "code",
   "execution_count": null,
   "metadata": {
    "colab": {
     "base_uri": "https://localhost:8080/",
     "height": 279
    },
    "id": "cJT_gFJ3wi_a",
    "outputId": "43cdb7b1-73fa-4b57-ef32-67b682f9c64d"
   },
   "outputs": [
    {
     "data": {
      "image/png": "[encoded data removed]",
      "text/plain": [
       "<Figure size 432x288 with 1 Axes>"
      ]
     },
     "metadata": {
      "needs_background": "light",
      "tags": []
     },
     "output_type": "display_data"
    }
   ],
   "source": [
    "import matplotlib.pyplot as plt \n",
    "\n",
    "ks = range(1, 10)\n",
    "inertias = []\n",
    "\n",
    "for k in ks:\n",
    "    model = KMeans(n_clusters =k)\n",
    "    model.fit(md)\n",
    "    inertias.append(model.inertia_)\n",
    "\n",
    "plt.plot(ks, inertias, '-0')\n",
    "plt.xlabel('number of clusters, K')\n",
    "plt.ylabel('inertia')\n",
    "plt.xticks(ks)\n",
    "plt.show()\n"
   ]
  },
  {
   "cell_type": "code",
   "execution_count": null,
   "metadata": {
    "id": "24dU_CHqwi_X",
    "scrolled": true
   },
   "outputs": [],
   "source": [
    "from sklearn.cluster import KMeans\n",
    "import random\n",
    "\n",
    "kmeans = KMeans(n_clusters = 6)\n",
    "kmeans.fit(md)\n",
    "labels = kmeans.predict(md)\n",
    "xd = pd.DataFrame({'labels': labels, 'quotes': df['Quote']})\n",
    "xd.sort_values(by='labels')\n",
    "test = xd.groupby('labels').groups\n"
   ]
  },
  {
   "cell_type": "code",
   "execution_count": null,
   "metadata": {
    "id": "lYDKBBrPwi_Y"
   },
   "outputs": [],
   "source": [
    "full_quote_words=[]\n",
    "\n",
    "for key in test:\n",
    "    text = ''\n",
    "    for wordItem in test[key]:\n",
    "        text += '' + df['mod_Quote'][wordItem]\n",
    "    full_quote_words.append(text)"
   ]
  },
  {
   "cell_type": "code",
   "execution_count": null,
   "metadata": {
    "colab": {
     "base_uri": "https://localhost:8080/",
     "height": 1000
    },
    "id": "R-lBuRUMwi_Z",
    "outputId": "913a1cf8-7564-4437-837f-fbbf41dcd8ad"
   },
   "outputs": [],
   "source": [
    "for item in full_quote_words:\n",
    "    wordcloud =  WordCloud(width=600, height=600, max_words=50).generate(item)\n",
    "    plt.figure()\n",
    "    plt.imshow(wordcloud, interpolation=\"bilinear\")\n",
    "    plt.axis(\"off\")\n",
    "    plt.margins(x=0, y=0)\n",
    "    plt.show()\n"
   ]
  },
  {
   "cell_type": "markdown",
   "metadata": {
    "id": "e4eJTf3X9tQt"
   },
   "source": [
    "Testing \n"
   ]
  },
  {
   "cell_type": "code",
   "execution_count": null,
   "metadata": {
    "colab": {
     "base_uri": "https://localhost:8080/"
    },
    "id": "lhql7kXPwi_a",
    "outputId": "16d9a5b7-5bf9-462c-d439-45349934236b"
   },
   "outputs": [],
   "source": [
    "test2 = \"Money and success don’t change people; they merely amplify what is already there.\"\n",
    "remove_noise(test2)\n",
    "Xt = vectorizer.fit_transform([test2])\n",
    "Xt.toarray()\n",
    "print(Xt.toarray())\n",
    "mod_Pt = [0 for i in range(0, 500)]\n",
    "for i in range(len(Xt.toarray()[0])):\n",
    "  mod_Pt[i] = Xt.toarray()[0][i]\n",
    "pred_group =  kmeans.predict([mod_Pt])[0]\n",
    "pred_group\n",
    "\n"
   ]
  },
  {
   "cell_type": "code",
   "execution_count": null,
   "metadata": {
    "colab": {
     "base_uri": "https://localhost:8080/",
     "height": 35
    },
    "id": "8GoabnoW7wWZ",
    "outputId": "24ffa491-2523-4459-fe48-1d47bce6895a"
   },
   "outputs": [],
   "source": [
    "df['Quote'][test[pred_group][2]]"
   ]
  },
  {
   "cell_type": "code",
   "execution_count": null,
   "metadata": {
    "colab": {
     "base_uri": "https://localhost:8080/",
     "height": 299
    },
    "id": "XHB_Iz4Ewi_b",
    "outputId": "c74ded2b-6c0f-4be5-851b-a66eb761a0c1"
   },
   "outputs": [],
   "source": [
    "plt.scatter(md[:,1], md[:,2], md[:,3], c =labels )\n",
    "plt.show()"
   ]
  },
  {
   "cell_type": "code",
   "execution_count": null,
   "metadata": {
    "id": "xf9pR2OKwi_c"
   },
   "outputs": [],
   "source": []
  }
 ],
 "metadata": {
  "accelerator": "GPU",
  "colab": {
   "collapsed_sections": [],
   "name": "predict_quotes.ipynb",
   "provenance": []
  },
  "kernelspec": {
   "display_name": "Python 3",
   "language": "python",
   "name": "python3"
  },
  "language_info": {
   "codemirror_mode": {
    "name": "ipython",
    "version": 3
   },
   "file_extension": ".py",
   "mimetype": "text/x-python",
   "name": "python",
   "nbconvert_exporter": "python",
   "pygments_lexer": "ipython3",
   "version": "3.7.6"
  }
 },
 "nbformat": 4,
 "nbformat_minor": 5
}

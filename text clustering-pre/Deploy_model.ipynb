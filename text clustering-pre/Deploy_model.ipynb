{
 "cells": [
  {
   "cell_type": "code",
   "execution_count": 29,
   "metadata": {},
   "outputs": [
    {
     "data": {
      "text/plain": [
       "KMeans(algorithm='auto', copy_x=True, init='k-means++', max_iter=300,\n",
       "       n_clusters=6, n_init=10, n_jobs=None, precompute_distances='auto',\n",
       "       random_state=None, tol=0.0001, verbose=0)"
      ]
     },
     "execution_count": 29,
     "metadata": {},
     "output_type": "execute_result"
    }
   ],
   "source": [
    "from sklearn.externals import joblib\n",
    "\n",
    "# Load the model from the file\n",
    "savedModel = joblib.load('quotes_model.pkl')\n",
    " \n",
    "# Use the loaded model to make predictions\n",
    "savedModel\n"
   ]
  },
  {
   "cell_type": "code",
   "execution_count": 30,
   "metadata": {},
   "outputs": [],
   "source": [
    "import re\n",
    "reg = re.compile(r'[a-zA-Z]')\n",
    "import nltk\n",
    "from nltk.corpus import stopwords\n",
    "from nltk.tokenize import word_tokenize\n",
    "from nltk.stem import PorterStemmer\n",
    "stemming = PorterStemmer()\n",
    "stop_list = set(stopwords.words('english'))\n",
    "\n",
    "\n",
    "def remove_noise(quote_word):\n",
    "    words = word_tokenize(quote_word)\n",
    "    currentQuote = []\n",
    "    for word in words:\n",
    "        if word not in stop_list and word.isalpha() and word not in [\",\", \".\", \"!\", \" \", \";\"] and reg.match(word):\n",
    "                currentQuote.append(stemming.stem(word.lower()))\n",
    "    \n",
    "    return \" \".join(currentQuote)\n",
    "\n",
    "\n",
    "from sklearn.feature_extraction.text import TfidfVectorizer\n",
    "vectorizer = TfidfVectorizer()\n"
   ]
  },
  {
   "cell_type": "code",
   "execution_count": 42,
   "metadata": {},
   "outputs": [
    {
     "name": "stdout",
     "output_type": "stream",
     "text": [
      "[[0.15617376 0.15617376 0.15617376 0.15617376 0.15617376 0.31234752\n",
      "  0.15617376 0.15617376 0.15617376 0.15617376 0.31234752 0.15617376\n",
      "  0.15617376 0.15617376 0.15617376 0.15617376 0.15617376 0.15617376\n",
      "  0.15617376 0.62469505]]\n"
     ]
    },
    {
     "data": {
      "text/plain": [
       "0"
      ]
     },
     "execution_count": 42,
     "metadata": {},
     "output_type": "execute_result"
    }
   ],
   "source": [
    "test2 = \"You don't get to choose if you get hurt in this world...but you do have some say in who hurts you. I like my choices.\"\n",
    "remove_noise(test2)\n",
    "Xt = vectorizer.fit_transform([test2])\n",
    "print(Xt.toarray())\n",
    "mod_Pt = [0 for i in range(0, 500)]\n",
    "for i in range(len(Xt.toarray()[0])):\n",
    "  mod_Pt[i] = Xt.toarray()[0][i]\n",
    "pred_group =  savedModel.predict([mod_Pt])[0]\n",
    "pred_group\n"
   ]
  },
  {
   "cell_type": "code",
   "execution_count": 32,
   "metadata": {},
   "outputs": [],
   "source": [
    "\n",
    "import json\n",
    "  \n",
    "\n",
    "f = open('trainPred.json',)\n",
    "  \n",
    "# returns JSON object as \n",
    "# a dictionary\n",
    "data = json.load(f)"
   ]
  },
  {
   "cell_type": "code",
   "execution_count": 33,
   "metadata": {},
   "outputs": [
    {
     "name": "stdout",
     "output_type": "stream",
     "text": [
      "You don't get to choose if you get hurt in this world...but you do have some say in who hurts you. I like my choices.\n"
     ]
    }
   ],
   "source": [
    "print(data[str(pred_group)][2])"
   ]
  },
  {
   "cell_type": "code",
   "execution_count": null,
   "metadata": {},
   "outputs": [],
   "source": []
  }
 ],
 "metadata": {
  "kernelspec": {
   "display_name": "Python 3",
   "language": "python",
   "name": "python3"
  },
  "language_info": {
   "codemirror_mode": {
    "name": "ipython",
    "version": 3
   },
   "file_extension": ".py",
   "mimetype": "text/x-python",
   "name": "python",
   "nbconvert_exporter": "python",
   "pygments_lexer": "ipython3",
   "version": "3.7.6"
  }
 },
 "nbformat": 4,
 "nbformat_minor": 4
}
